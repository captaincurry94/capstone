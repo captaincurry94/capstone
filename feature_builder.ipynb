{
 "cells": [
  {
   "cell_type": "code",
   "execution_count": 1,
   "metadata": {},
   "outputs": [],
   "source": [
    "import pandas as pd\n",
    "import numpy as np"
   ]
  },
  {
   "cell_type": "code",
   "execution_count": 13,
   "metadata": {},
   "outputs": [],
   "source": [
    "#create empty dataframe with datetime index in range of sample data\n",
    "feature_df = pd.DataFrame(index=pd.date_range(start='1/1/2015', end='7/1/2020'))"
   ]
  },
  {
   "cell_type": "code",
   "execution_count": 14,
   "metadata": {},
   "outputs": [],
   "source": [
    "#add special day 'Kieler Woche'\n",
    "kw_19 = [date for date in pd.date_range(start='22/6/2019', end='30/6/2019',)]\n",
    "kw_18 = [date for date in pd.date_range(start='16/6/2018', end='24/6/2018',)]\n",
    "kw_17 = [date for date in pd.date_range(start='17/6/2017', end='25/6/2017',)]\n",
    "kw_16 = [date for date in pd.date_range(start='18/6/2016', end='26/6/2016',)]\n",
    "kw_15 = [date for date in pd.date_range(start='20/6/2015', end='28/6/2015',)]\n",
    "\n",
    "kieler_woche = []\n",
    "for kw in [kw_15,kw_16,kw_17,kw_18,kw_19]:\n",
    "    for date in kw:\n",
    "        kieler_woche.append(date)"
   ]
  },
  {
   "cell_type": "code",
   "execution_count": 15,
   "metadata": {},
   "outputs": [],
   "source": [
    "#get weather data from csv\n",
    "wetter = pd.read_csv('feature_data/Wetterdaten_Kiel_gesamt.csv',delimiter=';')"
   ]
  },
  {
   "cell_type": "code",
   "execution_count": 16,
   "metadata": {},
   "outputs": [],
   "source": [
    "#create datetime index\n",
    "wetter.index = pd.to_datetime(wetter.pop('Datum'),dayfirst=True)\n",
    "#drop unknown column\n",
    "wetter = wetter.loc[wetter.index != pd.to_datetime('1/1/2015')][wetter.columns[:-1]]"
   ]
  },
  {
   "cell_type": "code",
   "execution_count": 17,
   "metadata": {},
   "outputs": [],
   "source": [
    "#merge weather data with continuous date index\n",
    "feature_df = pd.merge(left=feature_df,right=wetter,how='left',left_index=True,right_index=True)\n",
    "#fill missing values with that of next row\n",
    "feature_df.fillna(method='backfill',inplace=True)"
   ]
  },
  {
   "cell_type": "code",
   "execution_count": 20,
   "metadata": {},
   "outputs": [],
   "source": [
    "#add school holidays\n",
    "sommerferien_sh = [[date for date in pd.date_range(start='7/20/2015', end='8/29/2015',)],\n",
    "                   [date for date in pd.date_range(start='7/25/2016', end='9/3/2016',)],\n",
    "                   [date for date in pd.date_range(start='7/24/2017', end='9/2/2017',)],\n",
    "                   [date for date in pd.date_range(start='7/9/2018', end='8/18/2018',)],\n",
    "                   [date for date in pd.date_range(start='7/1/2019', end='8/10/2019',)],\n",
    "                   [date for date in pd.date_range(start='6/29/2020', end='8/8/2020',)]\n",
    "                  ]\n",
    "\n",
    "herbstferien_sh = [[date for date in pd.date_range(start='10/19/2015', end='10/31/2015',)],\n",
    "                   [date for date in pd.date_range(start='10/17/2016', end='10/29/2016',)],\n",
    "                   [date for date in pd.date_range(start='10/16/2017', end='10/27/2017',)],\n",
    "                   [date for date in pd.date_range(start='10/1/2018', end='10/19/2018',)],\n",
    "                   [date for date in pd.date_range(start='10/4/2019', end='10/18/2019',)]\n",
    "                  ]\n",
    "\n",
    "weihnachtsferien_sh = [[date for date in pd.date_range(start='12/21/2015', end='1/6/2016',)],\n",
    "                       [date for date in pd.date_range(start='12/23/2016', end='1/6/2017',)],\n",
    "                       [date for date in pd.date_range(start='12/21/2017', end='1/6/2018',)],\n",
    "                       [date for date in pd.date_range(start='12/21/2018', end='1/4/2019',)],\n",
    "                       [date for date in pd.date_range(start='12/23/2019', end='1/6/2020',)]\n",
    "                      ]\n",
    "\n",
    "#create lists with datestamps for respective holidays\n",
    "SoFe_SH = []\n",
    "HeFe_SH = []\n",
    "WiFe_SH = []\n",
    "\n",
    "for holidays in sommerferien_sh:\n",
    "    for date in holidays:\n",
    "        SoFe_SH.append(date)\n",
    "\n",
    "for holidays in herbstferien_sh:\n",
    "    for date in holidays:\n",
    "        HeFe_SH.append(date)\n",
    "\n",
    "for holidays in weihnachtsferien_sh:\n",
    "    for date in holidays:\n",
    "        WiFe_SH.append(date)"
   ]
  },
  {
   "cell_type": "code",
   "execution_count": 22,
   "metadata": {},
   "outputs": [],
   "source": [
    "#create public holidays\n",
    "\n",
    "karfreitag = [pd.to_datetime(f'4/3/2015'),\n",
    "              pd.to_datetime(f'3/25/2016'),\n",
    "              pd.to_datetime(f'4/14/2017'),\n",
    "              pd.to_datetime(f'3/30/2018'),\n",
    "              pd.to_datetime(f'4/19/2019'),\n",
    "              pd.to_datetime(f'4/10/2019')\n",
    "             ]\n",
    "\n",
    "ostermontag = [pd.to_datetime(f'4/6/2015'),\n",
    "               pd.to_datetime(f'3/28/2016'),\n",
    "               pd.to_datetime(f'4/17/2017'),\n",
    "               pd.to_datetime(f'4/2/2018'),\n",
    "               pd.to_datetime(f'4/22/2019'),\n",
    "               pd.to_datetime(f'4/13/2019')\n",
    "              ]\n",
    "\n",
    "himmelfahrt = [pd.to_datetime(f'5/14/2015'),\n",
    "               pd.to_datetime(f'5/5/2016'),\n",
    "               pd.to_datetime(f'5/25/2017'),\n",
    "               pd.to_datetime(f'5/10/2018'),\n",
    "               pd.to_datetime(f'5/30/2019'),\n",
    "               pd.to_datetime(f'5/21/2019')\n",
    "              ]\n",
    "\n",
    "pfingstmontag = [pd.to_datetime(f'5/25/2015'),\n",
    "                 pd.to_datetime(f'5/16/2016'),\n",
    "                 pd.to_datetime(f'6/5/2017'),\n",
    "                 pd.to_datetime(f'5/21/2018'),\n",
    "                 pd.to_datetime(f'6/10/2019'),\n",
    "                 pd.to_datetime(f'6/1/2019')\n",
    "                ]\n",
    "\n",
    "tag_der_arbeit = [pd.to_datetime(f'5/1/20{val}') for val in range(15,21)]\n",
    "\n",
    "einheitstag = [pd.to_datetime(f'10/3/20{val}') for val in range(15,21)]\n",
    "\n",
    "heilig_abend = [pd.to_datetime(f'12/24/20{val}') for val in range(15,21)]\n",
    "\n",
    "weihnachten = [pd.to_datetime(f'12/{day}/20{year}') for year in range(15,21) for day in range(25,27)]\n",
    "\n",
    "silvester = [pd.to_datetime(f'12/31/20{val}') for val in range(15,21)]\n",
    "\n",
    "neujahr = [pd.to_datetime(f'1/1/20{val}') for val in range(15,21)]\n",
    "\n"
   ]
  },
  {
   "cell_type": "code",
   "execution_count": 23,
   "metadata": {},
   "outputs": [],
   "source": [
    "#function to make 1/0 dummy from datestamp lists\n",
    "def dummy_from_datelist(date_index,datelist):\n",
    "    return [1 if idx in datelist else 0 for idx in date_index]"
   ]
  },
  {
   "cell_type": "code",
   "execution_count": 24,
   "metadata": {},
   "outputs": [],
   "source": [
    "feature_df['SoFe_SH'] = dummy_from_datelist(feature_df.index,SoFe_SH)\n",
    "feature_df['HeFe_SH'] = dummy_from_datelist(feature_df.index,HeFe_SH)\n",
    "feature_df['WiFe_SH'] = dummy_from_datelist(feature_df.index,WiFe_SH)\n",
    "feature_df['Kieler_Woche'] = dummy_from_datelist(feature_df.index,kieler_woche)\n",
    "\n",
    "feature_df['karfreitag'] = dummy_from_datelist(feature_df.index,karfreitag)\n",
    "feature_df['ostermontag'] = dummy_from_datelist(feature_df.index,ostermontag)\n",
    "feature_df['himmelfahrt'] = dummy_from_datelist(feature_df.index,himmelfahrt)\n",
    "feature_df['pfingstmontag'] = dummy_from_datelist(feature_df.index,pfingstmontag)\n",
    "feature_df['tag_der_arbeit'] = dummy_from_datelist(feature_df.index,tag_der_arbeit)\n",
    "feature_df['einheitstag'] = dummy_from_datelist(feature_df.index,einheitstag)\n",
    "feature_df['heilig_abend'] = dummy_from_datelist(feature_df.index,heilig_abend)\n",
    "feature_df['weihnachten'] = dummy_from_datelist(feature_df.index,weihnachten)\n",
    "feature_df['silvester'] = dummy_from_datelist(feature_df.index,silvester)\n",
    "feature_df['neujahr'] = dummy_from_datelist(feature_df.index,neujahr)\n"
   ]
  },
  {
   "cell_type": "code",
   "execution_count": 37,
   "metadata": {},
   "outputs": [],
   "source": [
    "#add flag one day before irregular holiday\n",
    "feature_df['day_before_irregular_holiday'] = [1 if int(feature_df[['karfreitag','ostermontag','himmelfahrt','pfingstmontag']][i-1:i].sum(axis=1)) > 0 else 0 for i in range(1,len(feature_df)+1)]"
   ]
  },
  {
   "cell_type": "code",
   "execution_count": 38,
   "metadata": {},
   "outputs": [],
   "source": [
    "feature_df.to_csv('feature_data/special_days.csv',index=True,index_label='ds')"
   ]
  },
  {
   "cell_type": "code",
   "execution_count": 39,
   "metadata": {},
   "outputs": [],
   "source": [
    "#import train, validation and test data\n",
    "train_df, validation_df, test_df = pd.read_csv('data/train_fil_3.csv',index_col=0),pd.read_csv('data/validation_fil_3.csv',index_col=0),pd.read_csv('data/test_fil_3.csv',index_col=0)\n",
    "for df in [train_df,validation_df,test_df]:\n",
    "    df.columns = [int(col) for col in df.columns]\n",
    "    df.index = pd.to_datetime(df.index)"
   ]
  },
  {
   "cell_type": "code",
   "execution_count": 40,
   "metadata": {},
   "outputs": [],
   "source": [
    "features = pd.read_csv('feature_data/special_days.csv')\n",
    "features.index = features.pop('ds')"
   ]
  },
  {
   "cell_type": "code",
   "execution_count": 41,
   "metadata": {},
   "outputs": [],
   "source": [
    "def merge_events_on_index(df,event_df):\n",
    "    return pd.merge(left=df.copy(),right=features,how='left',left_index=True,right_index=True)"
   ]
  },
  {
   "cell_type": "code",
   "execution_count": 42,
   "metadata": {},
   "outputs": [],
   "source": [
    "a = merge_events_on_index(train_df,features)"
   ]
  },
  {
   "cell_type": "code",
   "execution_count": null,
   "metadata": {},
   "outputs": [],
   "source": []
  }
 ],
 "metadata": {
  "kernelspec": {
   "display_name": "Python [conda env:nf] *",
   "language": "python",
   "name": "conda-env-nf-py"
  },
  "language_info": {
   "codemirror_mode": {
    "name": "ipython",
    "version": 3
   },
   "file_extension": ".py",
   "mimetype": "text/x-python",
   "name": "python",
   "nbconvert_exporter": "python",
   "pygments_lexer": "ipython3",
   "version": "3.6.6"
  },
  "toc": {
   "base_numbering": 1,
   "nav_menu": {},
   "number_sections": true,
   "sideBar": true,
   "skip_h1_title": false,
   "title_cell": "Table of Contents",
   "title_sidebar": "Contents",
   "toc_cell": false,
   "toc_position": {},
   "toc_section_display": true,
   "toc_window_display": false
  }
 },
 "nbformat": 4,
 "nbformat_minor": 4
}
