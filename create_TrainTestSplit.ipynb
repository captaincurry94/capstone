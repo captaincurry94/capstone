{
 "cells": [
  {
   "cell_type": "code",
   "execution_count": 4,
   "metadata": {},
   "outputs": [],
   "source": [
    "import pandas as pd\n",
    "import numpy as np"
   ]
  },
  {
   "cell_type": "code",
   "execution_count": 2,
   "metadata": {},
   "outputs": [],
   "source": [
    "#create dataframe with original data that will not be touched throughout notebook\n",
    "original_data = pd.read_csv('meteolytix_Artikelgruppen_Umsatz_verschiedeneStandorte.csv') \n",
    "\n",
    "#set Datum to datetime format\n",
    "original_data['Datum'] = pd.to_datetime(original_data['Datum'])\n",
    "\n",
    "#convert date to index\n",
    "original_data.set_index('Datum', inplace=True)\n",
    "original_data.sort_index(inplace=True)\n",
    "\n",
    "#convert Filiale and Artikel ID to integer\n",
    "original_data.Filiale = [int(no) for no in original_data.Filiale]\n",
    "original_data.Artikelgruppe = [int(no) for no in original_data.Artikelgruppe]"
   ]
  },
  {
   "cell_type": "code",
   "execution_count": 9,
   "metadata": {},
   "outputs": [],
   "source": [
    "#Split data into train, validation and test\n",
    "train_df = original_data[original_data.index.year < 2018]\n",
    "validation_df = original_data[original_data.index.year == 2018]\n",
    "test_df = original_data[original_data.index.year == 2019]\n",
    "corona_df = original_data[original_data.index.year == 2020]\n",
    "\n",
    "#save dataframes as csv for later usage\n",
    "for data in [train_df,validation_df,test_df,corona_df]:\n",
    "    data.to_csv()\n",
    "\n",
    "#function to extract data for only one store from dataframe and pivot the article column\n",
    "def store_split(df, fil):\n",
    "    #date_df = pd.DataFrame(index=pd.date_range(start=pd.to_datetime(str(df.index.min().year)+'-01-01'), end=df.index.max()))\n",
    "    dummy = pd.pivot_table(df[df.Filiale == fil],values='Umsatz',index=df[df.Filiale == fil].index,columns='Artikelgruppe', aggfunc=np.sum, fill_value=0)\n",
    "    dummy = dummy.reindex(pd.date_range(start=pd.to_datetime(str(df.index.min().year)+'-01-01'), end=df.index.max())).fillna(0)\n",
    "    return dummy\n",
    "\n"
   ]
  },
  {
   "cell_type": "code",
   "execution_count": null,
   "metadata": {},
   "outputs": [],
   "source": [
    "#iteratively generate individual train dataframes for each store\n",
    "for fil in train_df.Filiale.unique():\n",
    "    globals()['train_fil_'+str(fil)] = store_split(train_df,fil)\n",
    "    globals()['train_fil_'+str(fil)].to_csv('data/train_fil_'+str(fil))\n",
    "#iteratively generate individual train dataframes for each store\n",
    "for fil in validation_df.Filiale.unique():\n",
    "    globals()['validation_fil_'+str(fil)] = store_split(validation_df,fil)  \n",
    "    globals()['validation_fil_'+str(fil)].to_csv('data/validation_fil_'+str(fil))\n",
    "#iteratively generate individual train dataframes for each store\n",
    "for fil in validation_df.Filiale.unique():\n",
    "    globals()['test_fil_'+str(fil)] = store_split(test_df,fil)  \n",
    "    globals()['test_fil_'+str(fil)].to_csv('data/test_fil_'+str(fil))"
   ]
  }
 ],
 "metadata": {
  "kernelspec": {
   "display_name": "Python [conda env:nf] *",
   "language": "python",
   "name": "conda-env-nf-py"
  },
  "language_info": {
   "codemirror_mode": {
    "name": "ipython",
    "version": 3
   },
   "file_extension": ".py",
   "mimetype": "text/x-python",
   "name": "python",
   "nbconvert_exporter": "python",
   "pygments_lexer": "ipython3",
   "version": "3.6.6"
  },
  "toc": {
   "base_numbering": 1,
   "nav_menu": {},
   "number_sections": true,
   "sideBar": true,
   "skip_h1_title": false,
   "title_cell": "Table of Contents",
   "title_sidebar": "Contents",
   "toc_cell": false,
   "toc_position": {},
   "toc_section_display": true,
   "toc_window_display": false
  }
 },
 "nbformat": 4,
 "nbformat_minor": 4
}
